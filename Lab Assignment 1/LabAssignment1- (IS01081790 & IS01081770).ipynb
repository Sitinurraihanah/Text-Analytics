{
 "cells": [
  {
   "cell_type": "code",
   "execution_count": 8,
   "id": "cda85490",
   "metadata": {},
   "outputs": [],
   "source": [
    "\"\"\"\n",
    "     Name : Siti Nur Raihanah Binti Norsaidon ID : IS01081790\n",
    "     Nama : Fazreez Izlan Bin Benyamen ID :IS01081770\n",
    "\"\"\"\n",
    "import re\n",
    "import json\n",
    "import requests\n",
    "import csv\n",
    "from datetime import datetime\n",
    "\n",
    "# URL of the product page on Shopee\n",
    "url = \"https://shopee.com.my/Oxy-Anti-Bacterial-Night-Acne-Patch-(0.03cm-x-35's)-i.28285874.774984861?sp_atk=7f50a5f3-925d-40a3-9f5b-4dbbab867668&xptdk=7f50a5f3-925d-40a3-9f5b-4dbbab867668\"\n",
    "\n",
    "# Extracting shop_id and item_id from the URL using regular expressions\n",
    "r = re.search(r'i\\.(\\d+)\\.(\\d+)', url)\n",
    "if r:\n",
    "    shop_id, item_id = r.group(1), r.group(2)\n",
    "else:\n",
    "    print(\"Invalid URL\")\n",
    "    exit()\n",
    "\n",
    "# Offset for pagination in retrieving reviews\n",
    "offset = 0\n",
    "\n",
    "# Open CSV file for writing\n",
    "with open('shopee_reviews.csv', 'w', newline='', encoding='utf-8') as csvfile:\n",
    "    fieldnames = ['Username', 'Comment', 'Date']\n",
    "    writer = csv.DictWriter(csvfile, fieldnames=fieldnames)\n",
    "\n",
    "    # Write header to CSV file\n",
    "    writer.writeheader()\n",
    "\n",
    "    \n",
    "    \n",
    "    while True:\n",
    "        ratings_url = f'https://shopee.com.my/api/v2/item/get_ratings?filter=0&flag=1&itemid={item_id}&limit=20&offset={offset}&shopid={shop_id}&type=0'\n",
    "        data = requests.get(ratings_url).json()\n",
    "\n",
    "        for rating in data['data']['ratings']:\n",
    "            username = rating['author_username']\n",
    "            comment = rating['comment']\n",
    "            \n",
    "            # Convert Unix timestamp to date\n",
    "            date_time = datetime.utcfromtimestamp(rating['mtime'])\n",
    "            date_only = date_time.strftime('%Y-%m-%d')\n",
    "\n",
    "            # Write data to CSV file\n",
    "            writer.writerow({'Username': username, 'Comment': comment, 'Date': date_only})\n",
    "\n",
    "        if len(data['data']['ratings']) < 20:\n",
    "            break\n",
    "\n",
    "        offset += 20"
   ]
  },
  {
   "cell_type": "code",
   "execution_count": null,
   "id": "f5144d5b",
   "metadata": {},
   "outputs": [],
   "source": []
  }
 ],
 "metadata": {
  "kernelspec": {
   "display_name": "Python 3 (ipykernel)",
   "language": "python",
   "name": "python3"
  },
  "language_info": {
   "codemirror_mode": {
    "name": "ipython",
    "version": 3
   },
   "file_extension": ".py",
   "mimetype": "text/x-python",
   "name": "python",
   "nbconvert_exporter": "python",
   "pygments_lexer": "ipython3",
   "version": "3.11.5"
  }
 },
 "nbformat": 4,
 "nbformat_minor": 5
}
