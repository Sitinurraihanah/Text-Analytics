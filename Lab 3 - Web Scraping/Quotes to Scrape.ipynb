{
 "cells": [
  {
   "cell_type": "code",
   "execution_count": 1,
   "id": "e6edf74b",
   "metadata": {},
   "outputs": [],
   "source": [
    "import requests\n",
    "from bs4 import BeautifulSoup\n",
    "import csv"
   ]
  },
  {
   "cell_type": "code",
   "execution_count": 2,
   "id": "abbff418",
   "metadata": {},
   "outputs": [],
   "source": [
    "# Send a GET request to the website\n",
    "page = requests.get('https://quotes.toscrape.com')"
   ]
  },
  {
   "cell_type": "code",
   "execution_count": 3,
   "id": "a031d885",
   "metadata": {},
   "outputs": [],
   "source": [
    "# Parse the HTML content\n",
    "soup = BeautifulSoup(page.text, 'html.parser')"
   ]
  },
  {
   "cell_type": "code",
   "execution_count": 4,
   "id": "fb52677c",
   "metadata": {},
   "outputs": [],
   "source": [
    "# Create a list to store quotes\n",
    "quotes = []"
   ]
  },
  {
   "cell_type": "code",
   "execution_count": 5,
   "id": "53895c18",
   "metadata": {},
   "outputs": [],
   "source": [
    "# Find all quote elements\n",
    "quote_elements = soup.find_all('div', class_='quote')"
   ]
  },
  {
   "cell_type": "code",
   "execution_count": 6,
   "id": "5045b43a",
   "metadata": {},
   "outputs": [],
   "source": [
    "# Extract information from each quote element\n",
    "for quote_element in quote_elements:\n",
    "    # extract the text of the quote\n",
    "    text = quote_element.find('span', class_='text').text\n",
    "    # extract the author of the quote\n",
    "    author = quote_element.find('small', class_='author').text"
   ]
  },
  {
   "cell_type": "code",
   "execution_count": 8,
   "id": "a582c8be",
   "metadata": {},
   "outputs": [],
   "source": [
    "    # extract the tag <a> HTML elements related to the quote\n",
    "    tag_elements = quote_element.select('.tags .tag')\n"
   ]
  },
  {
   "cell_type": "code",
   "execution_count": 9,
   "id": "bb87db03",
   "metadata": {},
   "outputs": [],
   "source": [
    "    # store the list of tag strings in a list\n",
    "    tags = []\n",
    "    for tag_element in tag_elements:\n",
    "        tags.append(tag_element.text)"
   ]
  },
  {
   "cell_type": "code",
   "execution_count": 10,
   "id": "ea82db68",
   "metadata": {},
   "outputs": [],
   "source": [
    "    quotes.append(\n",
    "    {\n",
    "        'text': text,\n",
    "        'author': author,\n",
    "        'tags': ', '.join(tags) # merge the tags into a \"A, B, ..., Z\" string\n",
    "    }\n",
    ")"
   ]
  },
  {
   "cell_type": "code",
   "execution_count": 11,
   "id": "f4493962",
   "metadata": {},
   "outputs": [
    {
     "name": "stdout",
     "output_type": "stream",
     "text": [
      "Quote:  “A day without sunshine is like, you know, night.”\n",
      "Author:  Steve Martin\n",
      "Tags:  humor, obvious, simile\n",
      "\n"
     ]
    }
   ],
   "source": [
    "    \n",
    "# Print the scraped quotes - optional\n",
    "for quote in quotes:\n",
    "    print(\"Quote: \", quote['text'])\n",
    "    print(\"Author: \", quote['author'])\n",
    "    print(\"Tags: \", quote['tags'])\n",
    "    print()"
   ]
  },
  {
   "cell_type": "code",
   "execution_count": 12,
   "id": "e479f706",
   "metadata": {},
   "outputs": [],
   "source": [
    "with open('quotes.csv', 'w', encoding='utf-8', newline='') as csvfile:\n",
    "    fieldnames = ['text', 'author', 'tags']\n",
    "    writer = csv.DictWriter(csvfile, fieldnames=fieldnames)\n",
    "    \n",
    "    # Write headers\n",
    "    writer.writeheader()\n",
    "    \n",
    "    # Write quotes\n",
    "    for quote in quotes:\n",
    "        writer.writerow(quote)\n"
   ]
  },
  {
   "cell_type": "code",
   "execution_count": 21,
   "id": "b6dd7aeb",
   "metadata": {},
   "outputs": [
    {
     "name": "stdout",
     "output_type": "stream",
     "text": [
      "Quotes have been saved to quotes.csv\n"
     ]
    }
   ],
   "source": [
    "print(\"Quotes have been saved to quotes.csv\")"
   ]
  },
  {
   "cell_type": "code",
   "execution_count": null,
   "id": "a8d25e64",
   "metadata": {},
   "outputs": [],
   "source": []
  }
 ],
 "metadata": {
  "kernelspec": {
   "display_name": "Python 3 (ipykernel)",
   "language": "python",
   "name": "python3"
  },
  "language_info": {
   "codemirror_mode": {
    "name": "ipython",
    "version": 3
   },
   "file_extension": ".py",
   "mimetype": "text/x-python",
   "name": "python",
   "nbconvert_exporter": "python",
   "pygments_lexer": "ipython3",
   "version": "3.11.5"
  }
 },
 "nbformat": 4,
 "nbformat_minor": 5
}
