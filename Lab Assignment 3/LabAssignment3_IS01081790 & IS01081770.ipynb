{
 "cells": [
  {
   "cell_type": "markdown",
   "id": "3da25585",
   "metadata": {},
   "source": [
    "# IS01081790 & IS01081770"
   ]
  },
  {
   "cell_type": "code",
   "execution_count": 1,
   "id": "02f9326e",
   "metadata": {},
   "outputs": [
    {
     "name": "stderr",
     "output_type": "stream",
     "text": [
      "[nltk_data] Downloading package stopwords to\n",
      "[nltk_data]     C:\\Users\\Raihanah\\AppData\\Roaming\\nltk_data...\n",
      "[nltk_data]   Package stopwords is already up-to-date!\n",
      "[nltk_data] Downloading package punkt to\n",
      "[nltk_data]     C:\\Users\\Raihanah\\AppData\\Roaming\\nltk_data...\n",
      "[nltk_data]   Package punkt is already up-to-date!\n",
      "[nltk_data] Downloading package wordnet to\n",
      "[nltk_data]     C:\\Users\\Raihanah\\AppData\\Roaming\\nltk_data...\n",
      "[nltk_data]   Package wordnet is already up-to-date!\n"
     ]
    },
    {
     "data": {
      "text/plain": [
       "True"
      ]
     },
     "execution_count": 1,
     "metadata": {},
     "output_type": "execute_result"
    }
   ],
   "source": [
    "# For text preprocessing \n",
    "import nltk \n",
    "from nltk.corpus import stopwords \n",
    "from nltk.tokenize import word_tokenize \n",
    "from nltk.stem import WordNetLemmatizer, PorterStemmer\n",
    " \n",
    "# For topic modeling \n",
    "from gensim import corpora \n",
    "from gensim.models import LdaModel \n",
    "import pandas as pd \n",
    " \n",
    "# Download NLTK Resources \n",
    "nltk.download('stopwords') \n",
    "nltk.download('punkt') \n",
    "nltk.download('wordnet')"
   ]
  },
  {
   "cell_type": "code",
   "execution_count": 2,
   "id": "456d7f02",
   "metadata": {},
   "outputs": [],
   "source": [
    "# Read the data\n",
    "data = pd.read_csv('news_dataset.csv')"
   ]
  },
  {
   "cell_type": "code",
   "execution_count": 3,
   "id": "dd4f34ca",
   "metadata": {},
   "outputs": [],
   "source": [
    "# Use only the 'text' column and drop rows with null values\n",
    "documents = data['text'].dropna().tolist()"
   ]
  },
  {
   "cell_type": "code",
   "execution_count": 5,
   "id": "39b18fb9",
   "metadata": {},
   "outputs": [],
   "source": [
    "# # Initialize stop words, lemmatizer, and stemmer\n",
    "stop_words = set(stopwords.words('english'))\n",
    "lemmatizer = WordNetLemmatizer()\n",
    "stemmer = PorterStemmer()\n",
    "\n",
    "def preprocess_text(text):\n",
    "    tokens = word_tokenize(text.lower())  # Tokenize text and convert to lowercase\n",
    "    tokens = [token for token in tokens if token.isalnum() and not token.isdigit()]  # Remove non-alphanumeric tokens and numbers\n",
    "    tokens = [token for token in tokens if token not in stop_words]  # Remove stopwords\n",
    "    tokens = [stemmer.stem(token) for token in tokens]  # Apply stemming\n",
    "    tokens = [lemmatizer.lemmatize(token) for token in tokens]  # Apply lemmatization\n",
    "    return tokens\n",
    "\n",
    "\n",
    "# Preprocess each document in the list\n",
    "preprocessed_documents = [preprocess_text(doc) for doc in documents]"
   ]
  },
  {
   "cell_type": "code",
   "execution_count": 6,
   "id": "1d1a68db",
   "metadata": {},
   "outputs": [],
   "source": [
    "# Create a Gensim Dictionary object from the preprocessed documents \n",
    "dictionary = corpora.Dictionary(preprocessed_documents)  \n",
    " \n",
    "# Filter out tokens that appear in less than 15 documents or more than 50% of the documents \n",
    "dictionary.filter_extremes(no_below=15, no_above=0.5) \n",
    " \n",
    "# Convert each preprocessed document into a bag-of-words representation using the dictionary \n",
    "corpus = [dictionary.doc2bow(doc) for doc in preprocessed_documents]  "
   ]
  },
  {
   "cell_type": "code",
   "execution_count": 7,
   "id": "4d16fadc",
   "metadata": {},
   "outputs": [],
   "source": [
    "# Run LDA \n",
    "lda_model = LdaModel(corpus, num_topics=5, id2word=dictionary, passes=15)  # Train an LDA model on the corpus with 2 topics using Gensim's LdaModel class\n",
    "\n"
   ]
  },
  {
   "cell_type": "code",
   "execution_count": 8,
   "id": "28299e60",
   "metadata": {},
   "outputs": [],
   "source": [
    "# empty list to store dominant topic labels for each document \n",
    "article_labels = [] \n",
    " \n",
    "# iterate over each processed document \n",
    "for i, doc in enumerate(preprocessed_documents): \n",
    "    # for each document, convert to bag-of-words representation \n",
    "    bow = dictionary.doc2bow(doc) \n",
    "    # get list of topic probabilities \n",
    "    topics = lda_model.get_document_topics(bow) \n",
    "    # determine topic with highest probability \n",
    "    dominant_topic = max(topics, key=lambda x: x[1])[0] \n",
    "    # append to the list \n",
    "    article_labels.append(dominant_topic) "
   ]
  },
  {
   "cell_type": "code",
   "execution_count": 9,
   "id": "820bccf6",
   "metadata": {},
   "outputs": [
    {
     "name": "stdout",
     "output_type": "stream",
     "text": [
      "Table with Articles and Topic:\n",
      "                                                 Article  Topic\n",
      "0      I was wondering if anyone out there could enli...      1\n",
      "1      I recently posted an article asking what kind ...      1\n",
      "2      \\nIt depends on your priorities.  A lot of peo...      1\n",
      "3      an excellent automatic can be found in the sub...      1\n",
      "4      : Ford and his automobile.  I need information...      1\n",
      "...                                                  ...    ...\n",
      "11091  Secrecy in Clipper Chip\\n\\nThe serial number o...      0\n",
      "11092  Hi !\\n\\nI am interested in the source of FEAL ...      1\n",
      "11093  The actual algorithm is classified, however, t...      0\n",
      "11094  \\n\\tThis appears to be generic calling upon th...      3\n",
      "11095  \\nProbably keep quiet and take it, lest they g...      2\n",
      "\n",
      "[11096 rows x 2 columns]\n",
      "\n"
     ]
    }
   ],
   "source": [
    "# Create DataFrame \n",
    "df_result = pd.DataFrame({\"Article\": documents, \"Topic\": article_labels}) \n",
    " \n",
    "# Print the DataFrame \n",
    "print(\"Table with Articles and Topic:\") \n",
    "print(df_result) \n",
    "print()"
   ]
  },
  {
   "cell_type": "code",
   "execution_count": 12,
   "id": "50452a6f",
   "metadata": {},
   "outputs": [
    {
     "name": "stdout",
     "output_type": "stream",
     "text": [
      "Top terms for Topic #0:\n",
      "['president', 'new', 'team', 'year', 'american', 'program', 'game', 'national', 'administration', 'university']\n",
      "\n",
      "Top terms for Topic #1:\n",
      "['key', 'use', 'file', 'system', 'chip', 'encryption', 'one', 'window', 'x', 'program']\n",
      "\n",
      "Top terms for Topic #2:\n",
      "['would', 'one', 'get', 'know', 'think', 'like', 'time', 'good', 'going', 'could']\n",
      "\n",
      "Top terms for Topic #3:\n",
      "['x', 'q', 'max', 'g', 'r', 'p', 'n', 'db', 'c', 'k']\n",
      "\n",
      "Top terms for Topic #4:\n",
      "['people', 'would', 'one', 'god', 'government', 'law', 'right', 'say', 'u', 'armenian']\n",
      "\n"
     ]
    }
   ],
   "source": [
    "# Print top terms for each topic \n",
    "for topic_id in range(lda_model.num_topics): \n",
    "    print(f\"Top terms for Topic #{topic_id}:\") \n",
    "    top_terms = lda_model.show_topic(topic_id, topn=10) \n",
    "    print([term[0] for term in top_terms]) \n",
    "    print()\n"
   ]
  },
  {
   "cell_type": "code",
   "execution_count": 13,
   "id": "e5bbb4d8",
   "metadata": {},
   "outputs": [
    {
     "name": "stdout",
     "output_type": "stream",
     "text": [
      "Top Terms for Each Topic:\n",
      "Topic 0:\n",
      "- \"president\" (weight: 0.011)\n",
      "\n",
      "- \"new\" (weight: 0.008)\n",
      "\n",
      "- \"team\" (weight: 0.007)\n",
      "\n",
      "- \"year\" (weight: 0.007)\n",
      "\n",
      "- \"american\" (weight: 0.006)\n",
      "\n",
      "- \"program\" (weight: 0.005)\n",
      "\n",
      "- \"game\" (weight: 0.005)\n",
      "\n",
      "- \"national\" (weight: 0.005)\n",
      "\n",
      "- \"administration\" (weight: 0.005)\n",
      "\n",
      "- \"university\" (weight: 0.005)\n",
      "\n",
      "Topic 1:\n",
      "- \"key\" (weight: 0.013)\n",
      "\n",
      "- \"use\" (weight: 0.010)\n",
      "\n",
      "- \"file\" (weight: 0.009)\n",
      "\n",
      "- \"system\" (weight: 0.009)\n",
      "\n",
      "- \"chip\" (weight: 0.007)\n",
      "\n",
      "- \"encryption\" (weight: 0.006)\n",
      "\n",
      "- \"one\" (weight: 0.006)\n",
      "\n",
      "- \"window\" (weight: 0.006)\n",
      "\n",
      "- \"x\" (weight: 0.006)\n",
      "\n",
      "- \"program\" (weight: 0.005)\n",
      "\n",
      "Topic 2:\n",
      "- \"would\" (weight: 0.014)\n",
      "\n",
      "- \"one\" (weight: 0.011)\n",
      "\n",
      "- \"get\" (weight: 0.010)\n",
      "\n",
      "- \"know\" (weight: 0.009)\n",
      "\n",
      "- \"think\" (weight: 0.009)\n",
      "\n",
      "- \"like\" (weight: 0.009)\n",
      "\n",
      "- \"time\" (weight: 0.007)\n",
      "\n",
      "- \"good\" (weight: 0.006)\n",
      "\n",
      "- \"going\" (weight: 0.006)\n",
      "\n",
      "- \"could\" (weight: 0.006)\n",
      "\n",
      "Topic 3:\n",
      "- \"x\" (weight: 0.093)\n",
      "\n",
      "- \"q\" (weight: 0.091)\n",
      "\n",
      "- \"max\" (weight: 0.080)\n",
      "\n",
      "- \"g\" (weight: 0.051)\n",
      "\n",
      "- \"r\" (weight: 0.051)\n",
      "\n",
      "- \"p\" (weight: 0.043)\n",
      "\n",
      "- \"n\" (weight: 0.041)\n",
      "\n",
      "- \"db\" (weight: 0.038)\n",
      "\n",
      "- \"c\" (weight: 0.030)\n",
      "\n",
      "- \"k\" (weight: 0.029)\n",
      "\n",
      "Topic 4:\n",
      "- \"people\" (weight: 0.012)\n",
      "\n",
      "- \"would\" (weight: 0.009)\n",
      "\n",
      "- \"one\" (weight: 0.009)\n",
      "\n",
      "- \"god\" (weight: 0.007)\n",
      "\n",
      "- \"government\" (weight: 0.007)\n",
      "\n",
      "- \"law\" (weight: 0.006)\n",
      "\n",
      "- \"right\" (weight: 0.005)\n",
      "\n",
      "- \"say\" (weight: 0.005)\n",
      "\n",
      "- \"u\" (weight: 0.004)\n",
      "\n",
      "- \"armenian\" (weight: 0.004)\n",
      "\n"
     ]
    }
   ],
   "source": [
    "# Print the top terms for each topic with weight \n",
    "print(\"Top Terms for Each Topic:\") \n",
    "for idx, topic in lda_model.print_topics(): \n",
    "    print(f\"Topic {idx}:\") \n",
    "    terms = [term.strip() for term in topic.split(\"+\")] \n",
    "    for term in terms: \n",
    "        weight, word = term.split(\"*\") \n",
    "        print(f\"- {word.strip()} (weight: {weight.strip()})\") \n",
    "        print()"
   ]
  },
  {
   "cell_type": "code",
   "execution_count": null,
   "id": "4d716b9c",
   "metadata": {},
   "outputs": [],
   "source": []
  }
 ],
 "metadata": {
  "kernelspec": {
   "display_name": "Python 3 (ipykernel)",
   "language": "python",
   "name": "python3"
  },
  "language_info": {
   "codemirror_mode": {
    "name": "ipython",
    "version": 3
   },
   "file_extension": ".py",
   "mimetype": "text/x-python",
   "name": "python",
   "nbconvert_exporter": "python",
   "pygments_lexer": "ipython3",
   "version": "3.11.5"
  }
 },
 "nbformat": 4,
 "nbformat_minor": 5
}
